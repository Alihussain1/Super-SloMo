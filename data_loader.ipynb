{
 "cells": [
  {
   "cell_type": "code",
   "execution_count": null,
   "metadata": {},
   "outputs": [],
   "source": [
    "import torch\n",
    "import torchvision\n",
    "import numpy as np\n",
    "from torchvision import datasets\n",
    "import torchvision.transforms as transforms\n",
    "import torch.nn as nn\n",
    "import torch.nn.functional as F\n",
    "from torch import optim\n",
    "import matplotlib.pyplot as plt\n",
    "from torch.utils.data.sampler import SubsetRandomSampler\n",
    "import math\n",
    "import UNet\n",
    "import os\n",
    "import random\n",
    "from PIL import Image"
   ]
  },
  {
   "cell_type": "code",
   "execution_count": null,
   "metadata": {},
   "outputs": [],
   "source": [
    "mean = [0.429, 0.431, 0.397]\n",
    "std  = [1, 1, 1]\n",
    "data_transform = transforms.Compose([    \n",
    "        transforms.Resize((224,224)),    \n",
    "        transforms.ToTensor(),\n",
    "        transforms.Normalize(mean,std)\n",
    "    ])\n",
    "data = dataset_loader(r'Data set\\train',transforms=data_transform)\n",
    "data.frames"
   ]
  },
  {
   "cell_type": "code",
   "execution_count": null,
   "metadata": {},
   "outputs": [],
   "source": [
    "class dataset_loader():\n",
    "    def __init__(self,dataset_path,transforms = None):\n",
    "        self.data_path = dataset_path\n",
    "        self.transforms = transforms\n",
    "        if not os.path.exists(dataset_path):\n",
    "            raise(RuntimeError(\"path doesn't exist !\"))\n",
    "        self.frames = self.get_paths()\n",
    "    def get_paths(self):\n",
    "        images = []\n",
    "        dirs = os.listdir(self.data_path)\n",
    "        for folder in dirs:\n",
    "            folder_path = os.path.join(self.data_path,folder)\n",
    "            if not os.path.isdir(folder_path):\n",
    "                continue\n",
    "            folder_images = []\n",
    "            for img in os.listdir(folder_path):\n",
    "                folder_images.append(os.path.join(folder_path,img))\n",
    "            images.append(folder_images)\n",
    "        return images\n",
    "    def __getitem__(self,index):\n",
    "        frame_0_indx = random.randint(0,len(self.frames[index]) - 9) #9 = 1(index base = 0 not 1) + 8(7 frames between I0,I1)\n",
    "        frame_1_indx = frame_0_indx + 8\n",
    "        frame_t_indx = random.randint(frame_0_indx + 1 ,frame_1_indx - 1)\n",
    "        image_0 = Image.open(self.frames[index][frame_0_indx])\n",
    "        image_t = Image.open(self.frames[index][frame_t_indx])\n",
    "        image_1 = Image.open(self.frames[index][frame_1_indx])\n",
    "        if self.transforms is not None:\n",
    "            image_0 = self.transforms(image_0)\n",
    "            image_t = self.transforms(image_t)\n",
    "            image_1 = self.transforms(image_1)\n",
    "        return (image_0,image_t,image_1),frame_t_indx - frame_0_indx - 1\n",
    "    def __len__(self):\n",
    "        return len(self.frames)"
   ]
  },
  {
   "cell_type": "code",
   "execution_count": null,
   "metadata": {},
   "outputs": [],
   "source": []
  }
 ],
 "metadata": {
  "kernelspec": {
   "display_name": "Python 3",
   "language": "python",
   "name": "python3"
  },
  "language_info": {
   "codemirror_mode": {
    "name": "ipython",
    "version": 3
   },
   "file_extension": ".py",
   "mimetype": "text/x-python",
   "name": "python",
   "nbconvert_exporter": "python",
   "pygments_lexer": "ipython3",
   "version": "3.6.1"
  }
 },
 "nbformat": 4,
 "nbformat_minor": 2
}
