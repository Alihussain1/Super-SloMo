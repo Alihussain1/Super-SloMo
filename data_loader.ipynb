{
 "cells": [
  {
   "cell_type": "code",
   "execution_count": 4,
   "metadata": {},
   "outputs": [],
   "source": [
    "import torch\n",
    "import torchvision\n",
    "import numpy as np\n",
    "from torchvision import datasets\n",
    "import torchvision.transforms as transforms\n",
    "import torch.nn as nn\n",
    "import torch.nn.functional as F\n",
    "from torch import optim\n",
    "import matplotlib.pyplot as plt\n",
    "from torch.utils.data.sampler import SubsetRandomSampler\n",
    "import math\n",
    "import UNet\n",
    "import os"
   ]
  },
  {
   "cell_type": "code",
   "execution_count": 50,
   "metadata": {},
   "outputs": [
    {
     "data": {
      "text/plain": [
       "[['D:\\\\test\\\\1\\\\1118_left_2016_07_09_01_32_06.jpg',\n",
       "  'D:\\\\test\\\\1\\\\1118_right_2016_07_09_01_32_06.jpg',\n",
       "  'D:\\\\test\\\\1\\\\1125_left_2016_07_09_01_32_07.jpg',\n",
       "  'D:\\\\test\\\\1\\\\1125_right_2016_07_09_01_32_07.jpg'],\n",
       " ['D:\\\\test\\\\2\\\\1131_left_2016_07_09_01_32_08.jpg',\n",
       "  'D:\\\\test\\\\2\\\\1131_right_2016_07_09_01_32_08.jpg',\n",
       "  'D:\\\\test\\\\2\\\\1137_left_2016_07_09_01_32_09.jpg',\n",
       "  'D:\\\\test\\\\2\\\\1137_right_2016_07_09_01_32_09.jpg',\n",
       "  'D:\\\\test\\\\2\\\\1143_left_2016_07_09_01_32_10.jpg',\n",
       "  'D:\\\\test\\\\2\\\\1143_right_2016_07_09_01_32_10.jpg'],\n",
       " ['D:\\\\test\\\\5\\\\1149_left_2016_07_09_01_32_11.jpg',\n",
       "  'D:\\\\test\\\\5\\\\1149_right_2016_07_09_01_32_11.jpg',\n",
       "  'D:\\\\test\\\\5\\\\1155_left_2016_07_09_01_32_12.jpg',\n",
       "  'D:\\\\test\\\\5\\\\1155_right_2016_07_09_01_32_12.jpg',\n",
       "  'D:\\\\test\\\\5\\\\1161_left_2016_07_09_01_32_13.jpg',\n",
       "  'D:\\\\test\\\\5\\\\1161_right_2016_07_09_01_32_13.jpg',\n",
       "  'D:\\\\test\\\\5\\\\1167_left_2016_07_09_01_32_14.jpg',\n",
       "  'D:\\\\test\\\\5\\\\1167_right_2016_07_09_01_32_14.jpg']]"
      ]
     },
     "execution_count": 50,
     "metadata": {},
     "output_type": "execute_result"
    }
   ],
   "source": [
    "data = dataset_loader(r'D:\\test')\n",
    "data.frames"
   ]
  },
  {
   "cell_type": "code",
   "execution_count": 48,
   "metadata": {},
   "outputs": [],
   "source": [
    "class dataset_loader():\n",
    "    def __init__(self,dataset_path):\n",
    "        self.data_path = dataset_path\n",
    "        if not os.path.exists(dataset_path):\n",
    "            raise(RuntimeError(\"path doesn't exist !\"))\n",
    "        self.frames = self.get_paths()\n",
    "    def get_paths(self):\n",
    "        images = []\n",
    "        dirs = os.listdir(self.data_path)\n",
    "        for folder in dirs:\n",
    "            folder_path = os.path.join(self.data_path,folder)\n",
    "            if not os.path.isdir(folder_path):\n",
    "                continue\n",
    "            folder_images = []\n",
    "            for img in os.listdir(folder_path):\n",
    "                folder_images.append(os.path.join(folder_path,img))\n",
    "            images.append(folder_images)\n",
    "        return images\n",
    "    def __getitem__(self,index):\n",
    "        "
   ]
  },
  {
   "cell_type": "code",
   "execution_count": 43,
   "metadata": {},
   "outputs": [
    {
     "name": "stdout",
     "output_type": "stream",
     "text": [
      "None\n"
     ]
    }
   ],
   "source": [
    "print(data.frames)"
   ]
  },
  {
   "cell_type": "code",
   "execution_count": null,
   "metadata": {},
   "outputs": [],
   "source": []
  }
 ],
 "metadata": {
  "kernelspec": {
   "display_name": "Python 3",
   "language": "python",
   "name": "python3"
  },
  "language_info": {
   "codemirror_mode": {
    "name": "ipython",
    "version": 3
   },
   "file_extension": ".py",
   "mimetype": "text/x-python",
   "name": "python",
   "nbconvert_exporter": "python",
   "pygments_lexer": "ipython3",
   "version": "3.6.1"
  }
 },
 "nbformat": 4,
 "nbformat_minor": 2
}
