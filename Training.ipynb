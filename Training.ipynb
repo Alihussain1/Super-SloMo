{
 "cells": [
  {
   "cell_type": "code",
   "execution_count": 1,
   "metadata": {},
   "outputs": [],
   "source": [
    "import torch\n",
    "import numpy as np\n",
    "from torchvision import datasets\n",
    "import torchvision.transforms as transforms\n",
    "import torch.nn as nn\n",
    "import torch.nn.functional as F\n",
    "from torch import optim\n",
    "import matplotlib.pyplot as plt\n",
    "from torch.utils.data.sampler import SubsetRandomSampler"
   ]
  },
  {
   "cell_type": "code",
   "execution_count": null,
   "metadata": {},
   "outputs": [],
   "source": [
    "class UNet(nn.Module,in_channels,out_channels):\n",
    "    def __init__(self):\n",
    "        super(UNet,self).__init__()\n",
    "        \n",
    "        self.in_channels = in_channels\n",
    "        self.out_channels = out_channels\n",
    "        \n",
    "        #UNet Arch:\n",
    "        #1)Encoder\n",
    "        self.conv1  = nn.Conv2d(in_channels,32,7,1,3)\n",
    "        self.conv2  = nn.Conv2d(32,32,7,1,3)\n",
    "        \n",
    "        self.conv3  = nn.Conv2d(32,64,5,1,2)\n",
    "        self.conv4  = nn.Conv2d(64,64,5,1,2)\n",
    "        \n",
    "        self.conv5  = nn.Conv2d(64,128,3,1,1)\n",
    "        self.conv6  = nn.Conv2d(128,128,3,1,1)\n",
    "        \n",
    "        self.conv7  = nn.Conv2d(128,256,3,1,1)\n",
    "        self.conv8  = nn.Conv2d(256,256,3,1,1)\n",
    "        \n",
    "        self.conv9  = nn.Conv2d(256,512,3,1,1)\n",
    "        self.conv10 = nn.Conv2d(512,512,3,1,1)\n",
    "        \n",
    "        #1)Decoder\n",
    "        self.up_sample = nn.up_sample(scale_factor = 2, mode='bilinear')\n",
    "        \n",
    "        self.conv11 = nn.conv2(512,512,3,1,1)\n",
    "        self.conv12 = nn.conv2(512,512,3,1,1)\n",
    "        \n",
    "        self.conv13 = nn.conv2(512,256,3,1,1)\n",
    "        self.conv14 = nn.conv2(256,256,3,1,1)\n",
    "        \n",
    "        self.conv15 = nn.conv2(256,128,3,1,1)\n",
    "        self.conv16 = nn.conv2(128,128,3,1,1)\n",
    "        \n",
    "        self.conv17 = nn.conv2(128,64,3,1,1)\n",
    "        self.conv18 = nn.conv2(64,64,3,1,1)\n",
    "        \n",
    "        self.conv19 = nn.conv2(64,32,3,1,1)\n",
    "        self.conv20 = nn.conv2(32,out_channels,3,1,1)"
   ]
  }
 ],
 "metadata": {
  "kernelspec": {
   "display_name": "Python (pytorch)",
   "language": "python",
   "name": "pytorch"
  },
  "language_info": {
   "codemirror_mode": {
    "name": "ipython",
    "version": 3
   },
   "file_extension": ".py",
   "mimetype": "text/x-python",
   "name": "python",
   "nbconvert_exporter": "python",
   "pygments_lexer": "ipython3",
   "version": "3.7.1"
  }
 },
 "nbformat": 4,
 "nbformat_minor": 2
}
